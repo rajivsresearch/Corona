{
  "nbformat": 4,
  "nbformat_minor": 0,
  "metadata": {
    "colab": {
      "name": "Influenza vs Corona.ipynb",
      "provenance": [],
      "authorship_tag": "ABX9TyMyreY+eseVT05tny57RYHw",
      "include_colab_link": true
    },
    "kernelspec": {
      "name": "python3",
      "display_name": "Python 3"
    }
  },
  "cells": [
    {
      "cell_type": "markdown",
      "metadata": {
        "id": "view-in-github",
        "colab_type": "text"
      },
      "source": [
        "<a href=\"https://colab.research.google.com/github/rajivsresearch/Corona/blob/master/Influenza_vs_Corona.ipynb\" target=\"_parent\"><img src=\"https://colab.research.google.com/assets/colab-badge.svg\" alt=\"Open In Colab\"/></a>"
      ]
    },
    {
      "cell_type": "code",
      "metadata": {
        "id": "O0oZh8AMt65w",
        "colab_type": "code",
        "colab": {}
      },
      "source": [
        "import pandas as pd\n",
        "import matplotlib.pyplot as plt\n",
        "import datetime"
      ],
      "execution_count": 0,
      "outputs": []
    },
    {
      "cell_type": "code",
      "metadata": {
        "id": "3M7j3ZTFuInB",
        "colab_type": "code",
        "colab": {}
      },
      "source": [
        "df = pd.read_html('https://www.cdc.gov/flu/weekly/weeklyarchives2019-2020/data/whoAllregt_cl12.html')"
      ],
      "execution_count": 0,
      "outputs": []
    },
    {
      "cell_type": "code",
      "metadata": {
        "id": "lNl0MAEeuSYK",
        "colab_type": "code",
        "colab": {}
      },
      "source": [
        "flu = df[0]"
      ],
      "execution_count": 0,
      "outputs": []
    },
    {
      "cell_type": "code",
      "metadata": {
        "id": "RGT9_OrKuZ6E",
        "colab_type": "code",
        "colab": {
          "base_uri": "https://localhost:8080/",
          "height": 202
        },
        "outputId": "618b460d-c1ef-4949-d395-1cff825f15e0"
      },
      "source": [
        "flu.head()"
      ],
      "execution_count": 95,
      "outputs": [
        {
          "output_type": "execute_result",
          "data": {
            "text/html": [
              "<div>\n",
              "<style scoped>\n",
              "    .dataframe tbody tr th:only-of-type {\n",
              "        vertical-align: middle;\n",
              "    }\n",
              "\n",
              "    .dataframe tbody tr th {\n",
              "        vertical-align: top;\n",
              "    }\n",
              "\n",
              "    .dataframe thead th {\n",
              "        text-align: right;\n",
              "    }\n",
              "</style>\n",
              "<table border=\"1\" class=\"dataframe\">\n",
              "  <thead>\n",
              "    <tr style=\"text-align: right;\">\n",
              "      <th></th>\n",
              "      <th>Week</th>\n",
              "      <th>Total A</th>\n",
              "      <th>Total B</th>\n",
              "      <th>Percent Positive A</th>\n",
              "      <th>Percent Positive B</th>\n",
              "      <th>Total # Tested</th>\n",
              "      <th>% Positive</th>\n",
              "      <th>Date</th>\n",
              "      <th>New Cases</th>\n",
              "    </tr>\n",
              "  </thead>\n",
              "  <tbody>\n",
              "    <tr>\n",
              "      <th>0</th>\n",
              "      <td>201940</td>\n",
              "      <td>136</td>\n",
              "      <td>124</td>\n",
              "      <td>0.68</td>\n",
              "      <td>0.62</td>\n",
              "      <td>19857</td>\n",
              "      <td>1.30</td>\n",
              "      <td>2019-10-07</td>\n",
              "      <td>258.0</td>\n",
              "    </tr>\n",
              "    <tr>\n",
              "      <th>1</th>\n",
              "      <td>201941</td>\n",
              "      <td>146</td>\n",
              "      <td>181</td>\n",
              "      <td>0.66</td>\n",
              "      <td>0.81</td>\n",
              "      <td>22116</td>\n",
              "      <td>1.47</td>\n",
              "      <td>2019-10-14</td>\n",
              "      <td>325.0</td>\n",
              "    </tr>\n",
              "    <tr>\n",
              "      <th>2</th>\n",
              "      <td>201942</td>\n",
              "      <td>172</td>\n",
              "      <td>187</td>\n",
              "      <td>0.74</td>\n",
              "      <td>0.80</td>\n",
              "      <td>23141</td>\n",
              "      <td>1.55</td>\n",
              "      <td>2019-10-21</td>\n",
              "      <td>359.0</td>\n",
              "    </tr>\n",
              "    <tr>\n",
              "      <th>3</th>\n",
              "      <td>201943</td>\n",
              "      <td>201</td>\n",
              "      <td>354</td>\n",
              "      <td>0.81</td>\n",
              "      <td>1.43</td>\n",
              "      <td>24641</td>\n",
              "      <td>2.25</td>\n",
              "      <td>2019-10-28</td>\n",
              "      <td>554.0</td>\n",
              "    </tr>\n",
              "    <tr>\n",
              "      <th>4</th>\n",
              "      <td>201944</td>\n",
              "      <td>221</td>\n",
              "      <td>556</td>\n",
              "      <td>0.86</td>\n",
              "      <td>2.18</td>\n",
              "      <td>25429</td>\n",
              "      <td>3.05</td>\n",
              "      <td>2019-11-04</td>\n",
              "      <td>776.0</td>\n",
              "    </tr>\n",
              "  </tbody>\n",
              "</table>\n",
              "</div>"
            ],
            "text/plain": [
              "     Week  Total A  Total B  ...  % Positive       Date  New Cases\n",
              "0  201940      136      124  ...        1.30 2019-10-07      258.0\n",
              "1  201941      146      181  ...        1.47 2019-10-14      325.0\n",
              "2  201942      172      187  ...        1.55 2019-10-21      359.0\n",
              "3  201943      201      354  ...        2.25 2019-10-28      554.0\n",
              "4  201944      221      556  ...        3.05 2019-11-04      776.0\n",
              "\n",
              "[5 rows x 9 columns]"
            ]
          },
          "metadata": {
            "tags": []
          },
          "execution_count": 95
        }
      ]
    },
    {
      "cell_type": "code",
      "metadata": {
        "colab_type": "code",
        "id": "-pKlrpmv7d_6",
        "colab": {}
      },
      "source": [
        "flu['Date'] = flu['Week'].apply(lambda x: datetime.datetime.strptime(str(x) + '-1', \"%Y%W-%w\"))"
      ],
      "execution_count": 0,
      "outputs": []
    },
    {
      "cell_type": "code",
      "metadata": {
        "id": "7L_S3boXxNHr",
        "colab_type": "code",
        "colab": {}
      },
      "source": [
        "flu['New Cases'] = round(flu['Total # Tested']*flu['% Positive']/100)"
      ],
      "execution_count": 0,
      "outputs": []
    },
    {
      "cell_type": "code",
      "metadata": {
        "id": "kAdqfgEly1cX",
        "colab_type": "code",
        "colab": {}
      },
      "source": [
        "url = 'https://raw.githubusercontent.com/CSSEGISandData/COVID-19/master/csse_covid_19_data/csse_covid_19_time_series/time_series_covid19_confirmed_global.csv'\n",
        "df1 = pd.read_csv(url)"
      ],
      "execution_count": 0,
      "outputs": []
    },
    {
      "cell_type": "code",
      "metadata": {
        "id": "QgAfJv__y4JR",
        "colab_type": "code",
        "colab": {}
      },
      "source": [
        "f1 = df1['Country/Region'].isin(['US'])\n",
        "\n",
        "covid = df1.loc[f1,:].drop(['Province/State', 'Lat', 'Long'], axis=1).groupby('Country/Region').sum().T"
      ],
      "execution_count": 0,
      "outputs": []
    },
    {
      "cell_type": "code",
      "metadata": {
        "id": "Eb3uWoWK6a4T",
        "colab_type": "code",
        "colab": {}
      },
      "source": [
        "covid.index = pd.to_datetime(covid.index)"
      ],
      "execution_count": 0,
      "outputs": []
    },
    {
      "cell_type": "code",
      "metadata": {
        "id": "VYv1fX_u5bXJ",
        "colab_type": "code",
        "colab": {
          "base_uri": "https://localhost:8080/",
          "height": 455
        },
        "outputId": "7327e0b7-d8bc-4ba3-9abf-9ec1d7e50802"
      },
      "source": [
        "fig, ax = plt.subplots(figsize=(16,6))\n",
        "\n",
        "plt.plot(data.index, data.values, label='Covid-19')\n",
        "\n",
        "f2 = flu['Date'] > '2020-01-01'\n",
        "\n",
        "plt.plot(flu.loc[f2, 'Date'], flu.loc[f2 ,'New Cases'].cumsum(), label='Flu')\n",
        "\n",
        "plt.xticks(rotation=90)\n",
        "plt.legend()\n",
        "plt.title('Flu vs. Corona Virus')"
      ],
      "execution_count": 101,
      "outputs": [
        {
          "output_type": "execute_result",
          "data": {
            "text/plain": [
              "Text(0.5, 1.0, 'Flu vs. Corona Virus')"
            ]
          },
          "metadata": {
            "tags": []
          },
          "execution_count": 101
        },
        {
          "output_type": "display_data",
          "data": {
            "image/png": "[encoded data removed]",
            "text/plain": [
              "<Figure size 1152x432 with 1 Axes>"
            ]
          },
          "metadata": {
            "tags": []
          }
        }
      ]
    }
  ]
}