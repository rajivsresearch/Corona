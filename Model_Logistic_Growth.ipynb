{
  "nbformat": 4,
  "nbformat_minor": 0,
  "metadata": {
    "colab": {
      "name": "Model Logistic Growth.ipynb",
      "provenance": [],
      "authorship_tag": "ABX9TyOcjDqnBd4aYr2vZPPHN8p/",
      "include_colab_link": true
    },
    "kernelspec": {
      "name": "python3",
      "display_name": "Python 3"
    }
  },
  "cells": [
    {
      "cell_type": "markdown",
      "metadata": {
        "id": "view-in-github",
        "colab_type": "text"
      },
      "source": [
        "<a href=\"https://colab.research.google.com/github/rajivsresearch/Corona/blob/master/Model_Logistic_Growth.ipynb\" target=\"_parent\"><img src=\"https://colab.research.google.com/assets/colab-badge.svg\" alt=\"Open In Colab\"/></a>"
      ]
    },
    {
      "cell_type": "code",
      "metadata": {
        "id": "1yBZzStxKZ7K",
        "colab_type": "code",
        "colab": {}
      },
      "source": [
        "import pandas as pd\n",
        "import matplotlib.pyplot as plt\n",
        "import numpy as np"
      ],
      "execution_count": 0,
      "outputs": []
    },
    {
      "cell_type": "code",
      "metadata": {
        "id": "NBfN559_LZ3j",
        "colab_type": "code",
        "colab": {}
      },
      "source": [
        "def mylogistic(growthpct, maxpop, maxtime):\n",
        "  t = np.arange(1,maxtime,1)\n",
        "  p = np.zeros(maxtime)\n",
        "  p[0] = 1 \n",
        "  for i in t:\n",
        "    p[i] = p[i-1] + (maxpop - p[i-1])/maxpop * growthpct * p[i-1]\n",
        "\n",
        "  return p"
      ],
      "execution_count": 0,
      "outputs": []
    },
    {
      "cell_type": "code",
      "metadata": {
        "id": "s_c8J_iBNpKA",
        "colab_type": "code",
        "colab": {
          "base_uri": "https://localhost:8080/",
          "height": 313
        },
        "outputId": "83849622-a82f-4a92-ced8-23565762023b"
      },
      "source": [
        "count = 100\n",
        "pop = mylogistic(.2, 100000, count)\n",
        "plt.plot(np.arange(0,count,1), pop)\n",
        "plt.grid()\n",
        "plt.xlabel('Days')\n",
        "plt.ylabel('Count')\n",
        "plt.title('Logistic Curve')"
      ],
      "execution_count": 45,
      "outputs": [
        {
          "output_type": "execute_result",
          "data": {
            "text/plain": [
              "Text(0.5, 1.0, 'Logistic Curve')"
            ]
          },
          "metadata": {
            "tags": []
          },
          "execution_count": 45
        },
        {
          "output_type": "display_data",
          "data": {
            "image/png": "[encoded data removed]",
            "text/plain": [
              "<Figure size 432x288 with 1 Axes>"
            ]
          },
          "metadata": {
            "tags": []
          }
        }
      ]
    }
  ]
}