{
 "cells": [
  {
   "cell_type": "code",
   "execution_count": 16,
   "metadata": {},
   "outputs": [],
   "source": [
    "import pandas as pd\n",
    "import datetime\n",
    "import numpy as np\n",
    "import seaborn as sns\n",
    "import re \n",
    "\n",
    "pd.set_option('display.max_colwidth', -1)"
   ]
  },
  {
   "cell_type": "code",
   "execution_count": 17,
   "metadata": {},
   "outputs": [],
   "source": [
    "fdf = pd.DataFrame(index = np.arange(0,1000,1), columns=['day', 'line', 'number', 'place'])\n",
    "mdf = pd.DataFrame(index = np.arange(0,1000,1), columns=['day', 'line', 'number', 'place'])"
   ]
  },
  {
   "cell_type": "markdown",
   "metadata": {},
   "source": [
    "Extract February Data"
   ]
  },
  {
   "cell_type": "code",
   "execution_count": 18,
   "metadata": {},
   "outputs": [],
   "source": [
    "# Open the file with read only permit\n",
    "f = open('February extract.txt')\n",
    "\n",
    "# use readline() to read the first line \n",
    "line = f.readline()\n",
    "i=0\n",
    "\n",
    "while line:\n",
    "    if re.findall('^February',line):\n",
    "        fdf.iloc[i,0] = re.findall('\\d+', line)[0].strip()\n",
    "    else:\n",
    "        fdf.iloc[i,1] = line\n",
    "        fdf.iloc[i,2] = re.findall('\\d+', line)[0]\n",
    "        fdf.iloc[i,3] = re.findall('[A-Za-z]+', line)[0]\n",
    "        i=i+1\n",
    "\n",
    "    line = f.readline()\n",
    "    \n",
    "f.close()"
   ]
  },
  {
   "cell_type": "code",
   "execution_count": 19,
   "metadata": {},
   "outputs": [],
   "source": [
    "fdf = fdf.iloc[0:i,:]\n",
    "\n",
    "fdf = fdf.fillna(method='ffill')\n",
    "\n",
    "fdf.to_excel('February extract.xlsx')"
   ]
  },
  {
   "cell_type": "markdown",
   "metadata": {},
   "source": [
    "Extract March Data"
   ]
  },
  {
   "cell_type": "code",
   "execution_count": 20,
   "metadata": {},
   "outputs": [],
   "source": [
    "# Open the file with read only permit\n",
    "f = open('March extract.txt')\n",
    "\n",
    "# use readline() to read the first line \n",
    "line = f.readline()\n",
    "i=0\n",
    "\n",
    "while line:\n",
    "    if re.findall('^March',line):\n",
    "        mdf.iloc[i,0] = re.findall('\\d+', line)[0].strip()\n",
    "    else:\n",
    "        mdf.iloc[i,1] = line\n",
    "        mdf.iloc[i,2] = re.findall('\\d+', line)[0]\n",
    "        mdf.iloc[i,3] = re.findall('[A-Za-z]+', line)[0]\n",
    "        i=i+1\n",
    "\n",
    "    line = f.readline()\n",
    "    \n",
    "f.close()"
   ]
  },
  {
   "cell_type": "code",
   "execution_count": 21,
   "metadata": {},
   "outputs": [],
   "source": [
    "mdf = mdf.iloc[0:i,:]\n",
    "\n",
    "mdf = mdf.fillna(method='ffill')\n",
    "\n",
    "mdf.to_excel('March extract.xlsx')"
   ]
  },
  {
   "cell_type": "code",
   "execution_count": null,
   "metadata": {},
   "outputs": [],
   "source": []
  }
 ],
 "metadata": {
  "kernelspec": {
   "display_name": "Python 3",
   "language": "python",
   "name": "python3"
  },
  "language_info": {
   "codemirror_mode": {
    "name": "ipython",
    "version": 3
   },
   "file_extension": ".py",
   "mimetype": "text/x-python",
   "name": "python",
   "nbconvert_exporter": "python",
   "pygments_lexer": "ipython3",
   "version": "3.6.5"
  }
 },
 "nbformat": 4,
 "nbformat_minor": 2
}
