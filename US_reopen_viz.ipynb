{
  "nbformat": 4,
  "nbformat_minor": 0,
  "metadata": {
    "colab": {
      "name": "US reopen viz.ipynb",
      "provenance": [],
      "mount_file_id": "1xsw35oWfYM6AE1cU9yjyE2GWEg7czwGF",
      "authorship_tag": "ABX9TyNv3aMyq2eaOuag6eke9igr",
      "include_colab_link": true
    },
    "kernelspec": {
      "name": "python3",
      "display_name": "Python 3"
    }
  },
  "cells": [
    {
      "cell_type": "markdown",
      "metadata": {
        "id": "view-in-github",
        "colab_type": "text"
      },
      "source": [
        "<a href=\"https://colab.research.google.com/github/rajivsresearch/Corona/blob/master/US_reopen_viz.ipynb\" target=\"_parent\"><img src=\"https://colab.research.google.com/assets/colab-badge.svg\" alt=\"Open In Colab\"/></a>"
      ]
    },
    {
      "cell_type": "code",
      "metadata": {
        "id": "x8vw_ZnTeJbr",
        "colab_type": "code",
        "colab": {
          "base_uri": "https://localhost:8080/",
          "height": 471
        },
        "outputId": "45381459-5142-4a53-b6cc-4ad3449a838c"
      },
      "source": [
        "!pip install geopandas"
      ],
      "execution_count": 1,
      "outputs": [
        {
          "output_type": "stream",
          "text": [
            "Collecting geopandas\n",
            "\u001b[?25l  Downloading https://files.pythonhosted.org/packages/83/c5/3cf9cdc39a6f2552922f79915f36b45a95b71fd343cfc51170a5b6ddb6e8/geopandas-0.7.0-py2.py3-none-any.whl (928kB)\n",
            "\u001b[K     |████████████████████████████████| 931kB 4.6MB/s \n",
            "\u001b[?25hCollecting fiona\n",
            "\u001b[?25l  Downloading https://files.pythonhosted.org/packages/ec/20/4e63bc5c6e62df889297b382c3ccd4a7a488b00946aaaf81a118158c6f09/Fiona-1.8.13.post1-cp36-cp36m-manylinux1_x86_64.whl (14.7MB)\n",
            "\u001b[K     |████████████████████████████████| 14.7MB 261kB/s \n",
            "\u001b[?25hRequirement already satisfied: shapely in /usr/local/lib/python3.6/dist-packages (from geopandas) (1.7.0)\n",
            "Requirement already satisfied: pandas>=0.23.0 in /usr/local/lib/python3.6/dist-packages (from geopandas) (1.0.3)\n",
            "Collecting pyproj>=2.2.0\n",
            "\u001b[?25l  Downloading https://files.pythonhosted.org/packages/ce/37/705ee471f71130d4ceee41bbcb06f3b52175cb89273cbb5755ed5e6374e0/pyproj-2.6.0-cp36-cp36m-manylinux2010_x86_64.whl (10.4MB)\n",
            "\u001b[K     |████████████████████████████████| 10.4MB 24.3MB/s \n",
            "\u001b[?25hRequirement already satisfied: six>=1.7 in /usr/local/lib/python3.6/dist-packages (from fiona->geopandas) (1.12.0)\n",
            "Collecting cligj>=0.5\n",
            "  Downloading https://files.pythonhosted.org/packages/e4/be/30a58b4b0733850280d01f8bd132591b4668ed5c7046761098d665ac2174/cligj-0.5.0-py3-none-any.whl\n",
            "Requirement already satisfied: click<8,>=4.0 in /usr/local/lib/python3.6/dist-packages (from fiona->geopandas) (7.1.1)\n",
            "Collecting click-plugins>=1.0\n",
            "  Downloading https://files.pythonhosted.org/packages/e9/da/824b92d9942f4e472702488857914bdd50f73021efea15b4cad9aca8ecef/click_plugins-1.1.1-py2.py3-none-any.whl\n",
            "Requirement already satisfied: attrs>=17 in /usr/local/lib/python3.6/dist-packages (from fiona->geopandas) (19.3.0)\n",
            "Collecting munch\n",
            "  Downloading https://files.pythonhosted.org/packages/cc/ab/85d8da5c9a45e072301beb37ad7f833cd344e04c817d97e0cc75681d248f/munch-2.5.0-py2.py3-none-any.whl\n",
            "Requirement already satisfied: python-dateutil>=2.6.1 in /usr/local/lib/python3.6/dist-packages (from pandas>=0.23.0->geopandas) (2.8.1)\n",
            "Requirement already satisfied: pytz>=2017.2 in /usr/local/lib/python3.6/dist-packages (from pandas>=0.23.0->geopandas) (2018.9)\n",
            "Requirement already satisfied: numpy>=1.13.3 in /usr/local/lib/python3.6/dist-packages (from pandas>=0.23.0->geopandas) (1.18.3)\n",
            "Installing collected packages: cligj, click-plugins, munch, fiona, pyproj, geopandas\n",
            "Successfully installed click-plugins-1.1.1 cligj-0.5.0 fiona-1.8.13.post1 geopandas-0.7.0 munch-2.5.0 pyproj-2.6.0\n"
          ],
          "name": "stdout"
        }
      ]
    },
    {
      "cell_type": "code",
      "metadata": {
        "id": "0MxPGv4JeNZU",
        "colab_type": "code",
        "colab": {}
      },
      "source": [
        "import geopandas as gpd\n",
        "import pandas as pd\n",
        "import matplotlib.pyplot as plt\n",
        "import datetime\n",
        "import numpy as np"
      ],
      "execution_count": 0,
      "outputs": []
    },
    {
      "cell_type": "code",
      "metadata": {
        "id": "R1dvB11kePjj",
        "colab_type": "code",
        "colab": {}
      },
      "source": [
        "shapefile1 = '/content/drive/My Drive/Data/US Map/cb_2018_us_state_500k.shp'\n",
        "datafile = '/content/drive/My Drive/Data/US Map/50states.csv'"
      ],
      "execution_count": 0,
      "outputs": []
    },
    {
      "cell_type": "code",
      "metadata": {
        "id": "Ez75yGQPeUC9",
        "colab_type": "code",
        "colab": {}
      },
      "source": [
        "gdf = gpd.read_file(shapefile1)"
      ],
      "execution_count": 0,
      "outputs": []
    },
    {
      "cell_type": "code",
      "metadata": {
        "id": "mIwfeW1SnB9T",
        "colab_type": "code",
        "colab": {}
      },
      "source": [
        "df = pd.read_csv(datafile)"
      ],
      "execution_count": 0,
      "outputs": []
    },
    {
      "cell_type": "code",
      "metadata": {
        "id": "Rwxu_fJoeVLU",
        "colab_type": "code",
        "colab": {
          "base_uri": "https://localhost:8080/",
          "height": 173
        },
        "outputId": "da31fe87-e681-4de7-d243-09415be02237"
      },
      "source": [
        "gdf.plot(figsize=(8,6))"
      ],
      "execution_count": 13,
      "outputs": [
        {
          "output_type": "execute_result",
          "data": {
            "text/plain": [
              "<matplotlib.axes._subplots.AxesSubplot at 0x7fc01fecb630>"
            ]
          },
          "metadata": {
            "tags": []
          },
          "execution_count": 13
        },
        {
          "output_type": "display_data",
          "data": {
            "image/png": "[encoded data removed]",
            "text/plain": [
              "<Figure size 576x432 with 1 Axes>"
            ]
          },
          "metadata": {
            "tags": [],
            "needs_background": "light"
          }
        }
      ]
    },
    {
      "cell_type": "code",
      "metadata": {
        "id": "rudFiaTihVbK",
        "colab_type": "code",
        "colab": {
          "base_uri": "https://localhost:8080/",
          "height": 297
        },
        "outputId": "0e75557b-a49b-482b-98a9-e035ee5b8261"
      },
      "source": [
        "gdf.head(3)"
      ],
      "execution_count": 23,
      "outputs": [
        {
          "output_type": "execute_result",
          "data": {
            "text/html": [
              "<div>\n",
              "<style scoped>\n",
              "    .dataframe tbody tr th:only-of-type {\n",
              "        vertical-align: middle;\n",
              "    }\n",
              "\n",
              "    .dataframe tbody tr th {\n",
              "        vertical-align: top;\n",
              "    }\n",
              "\n",
              "    .dataframe thead th {\n",
              "        text-align: right;\n",
              "    }\n",
              "</style>\n",
              "<table border=\"1\" class=\"dataframe\">\n",
              "  <thead>\n",
              "    <tr style=\"text-align: right;\">\n",
              "      <th></th>\n",
              "      <th>STATEFP</th>\n",
              "      <th>STATENS</th>\n",
              "      <th>AFFGEOID</th>\n",
              "      <th>GEOID</th>\n",
              "      <th>STUSPS</th>\n",
              "      <th>NAME</th>\n",
              "      <th>LSAD</th>\n",
              "      <th>ALAND</th>\n",
              "      <th>AWATER</th>\n",
              "      <th>geometry</th>\n",
              "    </tr>\n",
              "  </thead>\n",
              "  <tbody>\n",
              "    <tr>\n",
              "      <th>0</th>\n",
              "      <td>28</td>\n",
              "      <td>01779790</td>\n",
              "      <td>0400000US28</td>\n",
              "      <td>28</td>\n",
              "      <td>MS</td>\n",
              "      <td>Mississippi</td>\n",
              "      <td>00</td>\n",
              "      <td>121533519481</td>\n",
              "      <td>3926919758</td>\n",
              "      <td>MULTIPOLYGON (((-88.50297 30.21523, -88.49176 ...</td>\n",
              "    </tr>\n",
              "    <tr>\n",
              "      <th>1</th>\n",
              "      <td>37</td>\n",
              "      <td>01027616</td>\n",
              "      <td>0400000US37</td>\n",
              "      <td>37</td>\n",
              "      <td>NC</td>\n",
              "      <td>North Carolina</td>\n",
              "      <td>00</td>\n",
              "      <td>125923656064</td>\n",
              "      <td>13466071395</td>\n",
              "      <td>MULTIPOLYGON (((-75.72681 35.93584, -75.71827 ...</td>\n",
              "    </tr>\n",
              "    <tr>\n",
              "      <th>2</th>\n",
              "      <td>40</td>\n",
              "      <td>01102857</td>\n",
              "      <td>0400000US40</td>\n",
              "      <td>40</td>\n",
              "      <td>OK</td>\n",
              "      <td>Oklahoma</td>\n",
              "      <td>00</td>\n",
              "      <td>177662925723</td>\n",
              "      <td>3374587997</td>\n",
              "      <td>POLYGON ((-103.00257 36.52659, -103.00219 36.6...</td>\n",
              "    </tr>\n",
              "  </tbody>\n",
              "</table>\n",
              "</div>"
            ],
            "text/plain": [
              "  STATEFP  ...                                           geometry\n",
              "0      28  ...  MULTIPOLYGON (((-88.50297 30.21523, -88.49176 ...\n",
              "1      37  ...  MULTIPOLYGON (((-75.72681 35.93584, -75.71827 ...\n",
              "2      40  ...  POLYGON ((-103.00257 36.52659, -103.00219 36.6...\n",
              "\n",
              "[3 rows x 10 columns]"
            ]
          },
          "metadata": {
            "tags": []
          },
          "execution_count": 23
        }
      ]
    },
    {
      "cell_type": "code",
      "metadata": {
        "id": "8ecZ6qY0lRsC",
        "colab_type": "code",
        "colab": {
          "base_uri": "https://localhost:8080/",
          "height": 353
        },
        "outputId": "da3ec57e-75f1-4afa-f523-9465fad0525b"
      },
      "source": [
        "gdf.cx[-125:-50, 25:].plot(figsize=(12,10))"
      ],
      "execution_count": 38,
      "outputs": [
        {
          "output_type": "execute_result",
          "data": {
            "text/plain": [
              "<matplotlib.axes._subplots.AxesSubplot at 0x7fc01fa8b940>"
            ]
          },
          "metadata": {
            "tags": []
          },
          "execution_count": 38
        },
        {
          "output_type": "display_data",
          "data": {
            "image/png": "[encoded data removed]",
            "text/plain": [
              "<Figure size 864x720 with 1 Axes>"
            ]
          },
          "metadata": {
            "tags": [],
            "needs_background": "light"
          }
        }
      ]
    },
    {
      "cell_type": "code",
      "metadata": {
        "id": "vDgdNuLRnKVs",
        "colab_type": "code",
        "colab": {
          "base_uri": "https://localhost:8080/",
          "height": 202
        },
        "outputId": "fdf49335-4905-45cf-8923-603b1e565065"
      },
      "source": [
        "df.head()"
      ],
      "execution_count": 83,
      "outputs": [
        {
          "output_type": "execute_result",
          "data": {
            "text/html": [
              "<div>\n",
              "<style scoped>\n",
              "    .dataframe tbody tr th:only-of-type {\n",
              "        vertical-align: middle;\n",
              "    }\n",
              "\n",
              "    .dataframe tbody tr th {\n",
              "        vertical-align: top;\n",
              "    }\n",
              "\n",
              "    .dataframe thead th {\n",
              "        text-align: right;\n",
              "    }\n",
              "</style>\n",
              "<table border=\"1\" class=\"dataframe\">\n",
              "  <thead>\n",
              "    <tr style=\"text-align: right;\">\n",
              "      <th></th>\n",
              "      <th>state</th>\n",
              "      <th>lockdowndate</th>\n",
              "      <th>reopendate</th>\n",
              "      <th>lastdate</th>\n",
              "    </tr>\n",
              "  </thead>\n",
              "  <tbody>\n",
              "    <tr>\n",
              "      <th>0</th>\n",
              "      <td>Alabama</td>\n",
              "      <td>2020-04-03</td>\n",
              "      <td>None</td>\n",
              "      <td>2020-04-03</td>\n",
              "    </tr>\n",
              "    <tr>\n",
              "      <th>1</th>\n",
              "      <td>Alaska</td>\n",
              "      <td>None</td>\n",
              "      <td>2020-04-24</td>\n",
              "      <td>2020-04-23</td>\n",
              "    </tr>\n",
              "    <tr>\n",
              "      <th>2</th>\n",
              "      <td>Arizona</td>\n",
              "      <td>2020-04-30</td>\n",
              "      <td>None</td>\n",
              "      <td>2020-04-30</td>\n",
              "    </tr>\n",
              "    <tr>\n",
              "      <th>3</th>\n",
              "      <td>Arkansas</td>\n",
              "      <td>None</td>\n",
              "      <td>2020-05-04</td>\n",
              "      <td>2020-05-03</td>\n",
              "    </tr>\n",
              "    <tr>\n",
              "      <th>4</th>\n",
              "      <td>California</td>\n",
              "      <td>None</td>\n",
              "      <td>None</td>\n",
              "      <td>2020-05-30</td>\n",
              "    </tr>\n",
              "  </tbody>\n",
              "</table>\n",
              "</div>"
            ],
            "text/plain": [
              "        state lockdowndate  reopendate    lastdate\n",
              "0     Alabama   2020-04-03        None  2020-04-03\n",
              "1      Alaska         None  2020-04-24  2020-04-23\n",
              "2     Arizona   2020-04-30        None  2020-04-30\n",
              "3    Arkansas         None  2020-05-04  2020-05-03\n",
              "4  California         None        None  2020-05-30"
            ]
          },
          "metadata": {
            "tags": []
          },
          "execution_count": 83
        }
      ]
    },
    {
      "cell_type": "code",
      "metadata": {
        "id": "9fcy27_NnYF9",
        "colab_type": "code",
        "colab": {}
      },
      "source": [
        "def getdate(x):\n",
        "  if len(x)>0:\n",
        "    y = x.split('-')\n",
        "    z = y[0] + '-' + y[1] + '-2020'\n",
        "    return datetime.datetime.strptime(z, \"%b-%d-%Y\").date()"
      ],
      "execution_count": 0,
      "outputs": []
    },
    {
      "cell_type": "code",
      "metadata": {
        "id": "r1KkzSlKnhgn",
        "colab_type": "code",
        "colab": {
          "base_uri": "https://localhost:8080/",
          "height": 35
        },
        "outputId": "581e6210-9a23-4c85-cdbf-9646042ab3c7"
      },
      "source": [
        "getdate('Apr-03')"
      ],
      "execution_count": 64,
      "outputs": [
        {
          "output_type": "execute_result",
          "data": {
            "text/plain": [
              "datetime.date(2020, 4, 3)"
            ]
          },
          "metadata": {
            "tags": []
          },
          "execution_count": 64
        }
      ]
    },
    {
      "cell_type": "code",
      "metadata": {
        "id": "WT6tcHc_nOsD",
        "colab_type": "code",
        "colab": {}
      },
      "source": [
        "df['lockdowndate'] = df['lockdowndate'].fillna('').apply(lambda x: getdate(x))"
      ],
      "execution_count": 0,
      "outputs": []
    },
    {
      "cell_type": "code",
      "metadata": {
        "id": "HSX8-Oz9qkoU",
        "colab_type": "code",
        "colab": {}
      },
      "source": [
        "df['reopendate'] = df['reopendate'].fillna('').apply(lambda x: getdate(x))"
      ],
      "execution_count": 0,
      "outputs": []
    },
    {
      "cell_type": "code",
      "metadata": {
        "id": "lAiXqwl2sW10",
        "colab_type": "code",
        "colab": {}
      },
      "source": [
        "def getcorrdate(x,y):\n",
        "  if x==None:\n",
        "    if y==None:\n",
        "      return datetime.datetime.strptime('May-30-2020', \"%b-%d-%Y\").date()\n",
        "    else:\n",
        "      return y-datetime.timedelta(days=1)\n",
        "  else:\n",
        "    return x"
      ],
      "execution_count": 0,
      "outputs": []
    },
    {
      "cell_type": "code",
      "metadata": {
        "id": "5opNl63IqyGO",
        "colab_type": "code",
        "colab": {}
      },
      "source": [
        "df['lastdate'] = df.apply(lambda x: getcorrdate(x['lockdowndate'], x['reopendate']), axis=1)"
      ],
      "execution_count": 0,
      "outputs": []
    },
    {
      "cell_type": "code",
      "metadata": {
        "id": "qbwU92l24brN",
        "colab_type": "code",
        "colab": {}
      },
      "source": [
        "def getcorrnum(x):\n",
        "  if x < 0:\n",
        "    return 0\n",
        "  else:\n",
        "    return x"
      ],
      "execution_count": 0,
      "outputs": []
    },
    {
      "cell_type": "code",
      "metadata": {
        "id": "ju2JdNvAvOQW",
        "colab_type": "code",
        "colab": {}
      },
      "source": [
        "df['numdays'] = (df['lastdate'] - datetime.datetime.strptime('Apr-26-2020', \"%b-%d-%Y\").date())/np.timedelta64(1, 'D')"
      ],
      "execution_count": 0,
      "outputs": []
    },
    {
      "cell_type": "code",
      "metadata": {
        "id": "f3cjBx_f5-sk",
        "colab_type": "code",
        "colab": {}
      },
      "source": [
        "df['numdays'] = df['numdays'].apply(lambda x: getcorrnum(x))"
      ],
      "execution_count": 0,
      "outputs": []
    },
    {
      "cell_type": "code",
      "metadata": {
        "id": "_c-GbNmyyg5x",
        "colab_type": "code",
        "colab": {
          "base_uri": "https://localhost:8080/",
          "height": 202
        },
        "outputId": "3307dd15-6798-4d87-e57d-0cce19f9e00b"
      },
      "source": [
        "df.head()"
      ],
      "execution_count": 128,
      "outputs": [
        {
          "output_type": "execute_result",
          "data": {
            "text/html": [
              "<div>\n",
              "<style scoped>\n",
              "    .dataframe tbody tr th:only-of-type {\n",
              "        vertical-align: middle;\n",
              "    }\n",
              "\n",
              "    .dataframe tbody tr th {\n",
              "        vertical-align: top;\n",
              "    }\n",
              "\n",
              "    .dataframe thead th {\n",
              "        text-align: right;\n",
              "    }\n",
              "</style>\n",
              "<table border=\"1\" class=\"dataframe\">\n",
              "  <thead>\n",
              "    <tr style=\"text-align: right;\">\n",
              "      <th></th>\n",
              "      <th>state</th>\n",
              "      <th>lockdowndate</th>\n",
              "      <th>reopendate</th>\n",
              "      <th>lastdate</th>\n",
              "      <th>numdays</th>\n",
              "    </tr>\n",
              "  </thead>\n",
              "  <tbody>\n",
              "    <tr>\n",
              "      <th>0</th>\n",
              "      <td>Alabama</td>\n",
              "      <td>2020-04-03</td>\n",
              "      <td>None</td>\n",
              "      <td>2020-04-03</td>\n",
              "      <td>0.0</td>\n",
              "    </tr>\n",
              "    <tr>\n",
              "      <th>1</th>\n",
              "      <td>Alaska</td>\n",
              "      <td>None</td>\n",
              "      <td>2020-04-24</td>\n",
              "      <td>2020-04-23</td>\n",
              "      <td>0.0</td>\n",
              "    </tr>\n",
              "    <tr>\n",
              "      <th>2</th>\n",
              "      <td>Arizona</td>\n",
              "      <td>2020-04-30</td>\n",
              "      <td>None</td>\n",
              "      <td>2020-04-30</td>\n",
              "      <td>4.0</td>\n",
              "    </tr>\n",
              "    <tr>\n",
              "      <th>3</th>\n",
              "      <td>Arkansas</td>\n",
              "      <td>None</td>\n",
              "      <td>2020-05-04</td>\n",
              "      <td>2020-05-03</td>\n",
              "      <td>7.0</td>\n",
              "    </tr>\n",
              "    <tr>\n",
              "      <th>4</th>\n",
              "      <td>California</td>\n",
              "      <td>None</td>\n",
              "      <td>None</td>\n",
              "      <td>2020-05-30</td>\n",
              "      <td>34.0</td>\n",
              "    </tr>\n",
              "  </tbody>\n",
              "</table>\n",
              "</div>"
            ],
            "text/plain": [
              "        state lockdowndate  reopendate    lastdate  numdays\n",
              "0     Alabama   2020-04-03        None  2020-04-03      0.0\n",
              "1      Alaska         None  2020-04-24  2020-04-23      0.0\n",
              "2     Arizona   2020-04-30        None  2020-04-30      4.0\n",
              "3    Arkansas         None  2020-05-04  2020-05-03      7.0\n",
              "4  California         None        None  2020-05-30     34.0"
            ]
          },
          "metadata": {
            "tags": []
          },
          "execution_count": 128
        }
      ]
    },
    {
      "cell_type": "code",
      "metadata": {
        "id": "_CWF87yft3fJ",
        "colab_type": "code",
        "colab": {}
      },
      "source": [
        "gdfmerge = gdf.merge(df, left_on='NAME', right_on='state', how='left')"
      ],
      "execution_count": 0,
      "outputs": []
    },
    {
      "cell_type": "code",
      "metadata": {
        "id": "DSK9nsVGwWV4",
        "colab_type": "code",
        "colab": {
          "base_uri": "https://localhost:8080/",
          "height": 335
        },
        "outputId": "e4399f62-7b45-46f5-ee76-d18cef4b6571"
      },
      "source": [
        "gdfmerge.cx[-125:-50, 25:].plot(figsize=(12,10), column='numdays', cmap='OrRd')\n",
        "plt.title('Most US States re-open/close to re-opening')\n",
        "plt.axis('off')\n",
        "plt.savefig('usstatesreopen.png')"
      ],
      "execution_count": 135,
      "outputs": [
        {
          "output_type": "display_data",
          "data": {
            "image/png": "[encoded data removed]",
            "text/plain": [
              "<Figure size 864x720 with 1 Axes>"
            ]
          },
          "metadata": {
            "tags": [],
            "needs_background": "light"
          }
        }
      ]
    }
  ]
}